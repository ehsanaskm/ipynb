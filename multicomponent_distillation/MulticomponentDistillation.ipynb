{
 "cells": [
  {
   "cell_type": "markdown",
   "metadata": {},
   "source": [
    "## Multi-component distillation\n",
    "\n",
    "## FENSKE–UNDERWOOD–GILLILAND (FUG) METHOD\n",
    "\n",
    "<img src='column.png'>\n",
    "\n",
    "<img src='kvalue.png'>\n"
   ]
  },
  {
   "cell_type": "markdown",
   "metadata": {},
   "source": [
    "## Minimum stages by the Fenske Equation "
   ]
  },
  {
   "cell_type": "markdown",
   "metadata": {},
   "source": [
    "Assumption: a uniform operating pressure of 80 psia (552 kPa) "
   ]
  },
  {
   "cell_type": "markdown",
   "metadata": {},
   "source": [
    "The two key components are n-butane and isopentene. Distillate and bottoms conditions based on the estimated product distribution for nonkey components are $\\textbf{123}{}^\\circ F$ at the top and $\\textbf{340}{}^\\circ F$ at the bottom: "
   ]
  },
  {
   "attachments": {},
   "cell_type": "markdown",
   "metadata": {},
   "source": [
    "$\\textbf{Light Key component (LK)}$: present in the residue in important amounts while components lighter than the light key are present in only very small amounts\n",
    "\n",
    "$\\textbf{Heavy Key component (HK)}$: present in the distillate in important amounts while components heavier than the heavy key are present in only very small amounts\n",
    "\n"
   ]
  },
  {
   "cell_type": "markdown",
   "metadata": {},
   "source": [
    "Relative volatility between component $i$ and $j$: "
   ]
  },
  {
   "cell_type": "markdown",
   "metadata": {},
   "source": [
    "$$\\alpha_k=K_{i,k}K_{j,k}$$\n",
    "\n"
   ]
  },
  {
   "cell_type": "markdown",
   "metadata": {},
   "source": [
    "Top stage:\n",
    "\n",
    "${(\\alpha_{{nC4},{iC5}})}_N=1.03/0.495=2.08$\n",
    "\n",
    "Bottom stage:\n",
    "\n",
    "${(\\alpha_{{nC4},{iC5}})}_1=1.03/0.495=1.44$"
   ]
  },
  {
   "cell_type": "markdown",
   "metadata": {},
   "source": [
    "$$\\alpha_m={\\bigg[ {(\\alpha_{i,j})}_N {(\\alpha_{i,j})}_1 \\bigg]}^{1/2}$$"
   ]
  },
  {
   "cell_type": "markdown",
   "metadata": {},
   "source": [
    "$\\alpha_m={\\bigg[ (2.08)(1.44) \\bigg]}^{1/2}=1.73$"
   ]
  },
  {
   "cell_type": "markdown",
   "metadata": {},
   "source": [
    "## Fenske Equation:\n",
    "\n",
    "$$\\boxed{N_{min}=\\frac{log[(d_i/d_j)(b_j / b_i)]}{lg \\alpha_m}}$$\n",
    "\n",
    "where d is distillate flow rate and b is bottom flow rate:\n",
    "\n",
    "$$d_i/d_j=x_{D,i}/x_{D,j}$$\n",
    "$$b_i/b_j=x_{b,i}/x_{b,j}$$"
   ]
  },
  {
   "cell_type": "markdown",
   "metadata": {},
   "source": [
    "$N_{min}=8.88$ stages "
   ]
  },
  {
   "cell_type": "markdown",
   "metadata": {},
   "source": [
    "## Underwood Equations for Minimum Reflux \n",
    "\n",
    "## Minimum reflux rate (Class 1)"
   ]
  },
  {
   "cell_type": "markdown",
   "metadata": {},
   "source": [
    "$$\\boxed{\\frac{{L_{\\infty}}_{(min)}}{F}=\\frac{(L_F/F)[(Dx_{LK,D})/(L_F x_{LK,F})-({\\alpha_{LK,HK}})_F(D{x_{HK,D}}/L_F {x_{HK,F}})]}{({\\alpha_{LK,HK}})_F-1}}$$\n",
    "\n",
    "$$\\frac{D x_{i,D}}{L_F x_{i,F}}=\\bigg[ \\frac{{(\\alpha_{i,HK})}_F-1}{{(\\alpha_{LK,HK})}_F-1} \\bigg] \\frac{D _{LK,D}}{L_F x_{LK,F}}+\\bigg[ \\frac{{(\\alpha_{LK,HK})}_F-{(\\alpha_{i,HK})}_F}{{(\\alpha_{LK,HK})}_F-1} \\bigg](\\frac{D x_{HK,D}}{L_F x_{HK,F}})$$"
   ]
  },
  {
   "cell_type": "markdown",
   "metadata": {},
   "source": [
    "$\\alpha$ between $nC_4$ (LK) and $iC_5$ at a feed temperature of 180 F is 1.93.\n",
    "\n",
    "$(\\alpha_{LK,HK})_F=1.93$\n",
    "\n",
    "$L_F$ and $x_{i,F}$ computed by making the flash of the feed at 80 psi and 180 F\n",
    "\n",
    "${L_{\\infty}}_{(min)}=389$ lbmol/h\n",
    "\n",
    "$\\frac{D x_{i,D}}{L_F x_{i,F}}=0.1963$\n",
    "\n",
    "$D x_{nC5,D}=2.63$ lbmol/h of nC5 in the distillate which is less than the quantity of nC5 in the total feed. \n",
    "\n",
    "Therefore, nC5 distributes between the distillate and the bottoms. However, similar calculations for the other nonkey components give negative distillate flow rates for the other heavy components and, in the case of iC4, a distillate flow rate greater than the feed rate. Thus, the computed reflux rate is not valid."
   ]
  },
  {
   "cell_type": "markdown",
   "metadata": {},
   "source": [
    "## Minimum reflux rate (Class 2)"
   ]
  },
  {
   "cell_type": "markdown",
   "metadata": {
    "collapsed": true
   },
   "source": [
    "$$\\sum_{i}{}\\frac{{(\\alpha_{i,r})}_{\\infty}z_{i,F}}{{(\\alpha_{i,r})}_{\\infty}-\\theta}=1-q$$\n",
    "\n",
    "where q is the feed thermal condition and r is taken as the HK. \n",
    "\n",
    "Assuming the only distribution nonkey component is n-pentane and a feed temperature of 180 F for computing relative volatilities in the pinch zone:"
   ]
  },
  {
   "cell_type": "markdown",
   "metadata": {},
   "source": [
    "<img src='ex9.5.png'>"
   ]
  },
  {
   "cell_type": "markdown",
   "metadata": {},
   "source": [
    "The feed q is the mole fraction of liquid in the flashed feed. From flash calculation, we have at 80 psi and 180 F, the mole $\\%$ vaporized is 13.34 $\\%$. Therefore, q=1-0.1334=0.8666. With considering  \n",
    "$$\\boxed{\\alpha_{nC4,iC5}>\\theta_{1}>\\alpha_{iC5,iC5}>\\theta_{2}>\\alpha_{nC5,nC5}}$$\n",
    "From equation above: "
   ]
  },
  {
   "cell_type": "code",
   "execution_count": 3,
   "metadata": {},
   "outputs": [
    {
     "name": "stdout",
     "output_type": "stream",
     "text": [
      "[ 0.78013962]\n",
      "[ 1.04503768]\n"
     ]
    },
    {
     "name": "stderr",
     "output_type": "stream",
     "text": [
      "/Applications/anaconda3/lib/python3.6/site-packages/ipykernel_launcher.py:31: RuntimeWarning: divide by zero encountered in true_divide\n"
     ]
    },
    {
     "data": {
      "text/plain": [
       "[<matplotlib.lines.Line2D at 0x15164f18d0>]"
      ]
     },
     "execution_count": 3,
     "metadata": {},
     "output_type": "execute_result"
    },
    {
     "data": {
      "image/png": "[encoded data removed]",
      "text/plain": [
       "<matplotlib.figure.Figure at 0x1516428cf8>"
      ]
     },
     "metadata": {},
     "output_type": "display_data"
    }
   ],
   "source": [
    "import numpy as np\n",
    "import matplotlib.pyplot as plt\n",
    "from scipy.optimize import fsolve\n",
    "from scipy.optimize import brentq\n",
    "%matplotlib inline\n",
    "\n",
    "z = dict()\n",
    "z['component_1'] = 0.0137\n",
    "z['component_2'] = 0.5113\n",
    "z['component_3'] = 0.0411\n",
    "z['component_4'] = 0.0171\n",
    "z['component_5'] = 0.0262\n",
    "z['component_6'] = 0.0446\n",
    "z['component_7'] = 0.3106\n",
    "z['component_8'] = 1 - sum(z.values())\n",
    "\n",
    "alpha = dict()\n",
    "alpha['component_1'] = 2.43\n",
    "alpha['component_2'] = 1.93\n",
    "alpha['component_3'] = 1.00\n",
    "alpha['component_4'] = 0.765\n",
    "alpha['component_5'] = 0.362\n",
    "alpha['component_6'] = 0.164\n",
    "alpha['component_7'] = 0.072\n",
    "alpha['component_8'] = 0.0362\n",
    "\n",
    "theta=np.linspace(0.765,1.93)\n",
    "\n",
    "def RR(theta):\n",
    "    q=0.8666\n",
    "    return sum([alpha[n]*z[n]/(alpha[n]-theta) for n in alpha.keys()])-1+q\n",
    " \n",
    "print(fsolve(RR,0.77))\n",
    "\n",
    "print(fsolve(RR,1.01))\n",
    "\n",
    "plt.plot(theta,RR(theta))\n",
    "\n"
   ]
  },
  {
   "cell_type": "markdown",
   "metadata": {
    "collapsed": true
   },
   "source": [
    "<img src='fraction.png'>\n",
    "\n",
    "Since ditillate rate for $nC4$ and $iC5$ are specified (442 and 13 lbmol/h):\n",
    "\n",
    "$$\\sum_{i}{}\\frac{{(\\alpha_{i,r})}_{\\infty}x_{i,D}D}{{(\\alpha_{i,r})}_{\\infty}-\\theta}=d+{(L_{\\infty})}_{min}$$\n",
    "\n",
    "With the restricting that: \n",
    "\n",
    "$$\\sum_{i}{}x_{i,D}D=D$$\n",
    "\n",
    "We have a system of three linear equation:\n"
   ]
  },
  {
   "cell_type": "markdown",
   "metadata": {},
   "source": [
    "$$x_0 \\times D + x_1 \\times {(L_{\\infty})}_{min} + x_2 \\times x_{nC5,D}D =x_3 $$\n",
    "$$x_4 \\times D + x_5 \\times {(L_{\\infty})}_{min} + x_6 \\times x_{nC5,D}D =x_7 $$\n",
    "$$x_8 \\times D + x_9 \\times {(L_{\\infty})}_{min} + x_{10} \\times x_{nC5,D}D =x_{11} $$"
   ]
  },
  {
   "cell_type": "code",
   "execution_count": 4,
   "metadata": {},
   "outputs": [
    {
     "name": "stdout",
     "output_type": "stream",
     "text": [
      "D= 469.558940435 ,   Lmin= 219.826273271 ,   x_nc5,d= 2.55894043458\n"
     ]
    }
   ],
   "source": [
    "x0=1*(0.765-1.04504)\n",
    "x1=1*(0.765-1.04504)\n",
    "x2=-0.765\n",
    "x3=((2.43*12)/(2.43-1.04504)+1.93*442/(1.93-1.04504)+1.00*13/(1.00-1.04504))*(0.765-1.04504)\n",
    "x4=1*(0.765-0.78014)\n",
    "x5=1*(0.765-0.78014)\n",
    "x6=-0.765\n",
    "x7=((2.43*12)/(2.43-0.78014)+1.93*442/(1.93-0.78014)+1.00*13/(1.00-0.78014))*(0.765-0.78014)\n",
    "x8=1\n",
    "x9=0\n",
    "x10=-1\n",
    "x11=12+442+13\n",
    "\n",
    "a = np.array([[x0,x1,x2], [x4,x5,x6],[x8,x9,x10]])\n",
    "b = np.array([x3,x7,x11])\n",
    "\n",
    "answer = np.linalg.solve(a, b)\n",
    "\n",
    "print(\"D=\",answer[0],\",  \", \"Lmin=\",answer[1],\",  \",\"x_nc5,d=\",answer[2])\n"
   ]
  },
  {
   "cell_type": "markdown",
   "metadata": {
    "collapsed": true
   },
   "source": [
    "## Gilliland Correlation for Actual Reflux Ratio and Equilibrium Stages"
   ]
  },
  {
   "cell_type": "markdown",
   "metadata": {},
   "source": [
    "$$Y=\\frac{N-N_{min}}{N+1}=1-exp \\bigg[ (\\frac{1+54.4X}{11+117.2 X}) (\\frac{X-1}{X^{0.5}}) \\bigg]$$\n",
    "\n",
    "$$X=\\frac{R-R_{min}}{R+1}$$"
   ]
  },
  {
   "cell_type": "markdown",
   "metadata": {},
   "source": [
    "## Feed-Stage Location"
   ]
  },
  {
   "cell_type": "markdown",
   "metadata": {},
   "source": [
    "$$\\frac{N_R}{N_S}={\\bigg[ (\\frac{z_{HK,F}}{z_{LK,F}}){(\\frac{x_{LK,B}}{z_{HK,D}})}^2(\\frac{B}{D}) \\bigg]}^{0.206}$$\n",
    "\n",
    "$$N_R+N_S=N$$"
   ]
  },
  {
   "cell_type": "code",
   "execution_count": null,
   "metadata": {
    "collapsed": true
   },
   "outputs": [],
   "source": []
  }
 ],
 "metadata": {
  "kernelspec": {
   "display_name": "Python 3",
   "language": "python",
   "name": "python3"
  },
  "language_info": {
   "codemirror_mode": {
    "name": "ipython",
    "version": 3
   },
   "file_extension": ".py",
   "mimetype": "text/x-python",
   "name": "python",
   "nbconvert_exporter": "python",
   "pygments_lexer": "ipython3",
   "version": "3.6.3"
  }
 },
 "nbformat": 4,
 "nbformat_minor": 2
}
