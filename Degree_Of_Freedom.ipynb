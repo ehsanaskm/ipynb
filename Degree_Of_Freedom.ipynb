{
 "cells": [
  {
   "cell_type": "markdown",
   "metadata": {},
   "source": [
    "## Degree of Freedom in Distillation (DOF)\n",
    "\n",
    "<img src=\"column.jpg\">\n",
    "\n",
    "\n",
    "## DOF =  Number of Unknwons -  Number of Equations \n",
    "\n",
    "## knowns: F, Zf, T "
   ]
  },
  {
   "cell_type": "markdown",
   "metadata": {},
   "source": [
    "$N_C$= Number of components \n",
    "\n",
    "$N_T$= Number of trays "
   ]
  },
  {
   "cell_type": "markdown",
   "metadata": {},
   "source": [
    "## Uknowns Variables:"
   ]
  },
  {
   "cell_type": "markdown",
   "metadata": {},
   "source": [
    "## For each tray except condenser and reboiler: \n",
    "\n",
    "\n",
    "\n",
    "$$T_j, L_j, G_j, x_{j,i}, y_{j,i}$$ \n",
    "\n",
    "$$3N_{T}+2N_TN_C$$"
   ]
  },
  {
   "cell_type": "markdown",
   "metadata": {},
   "source": [
    "## For the condenser :\n",
    "\n",
    "$$T_C, L_0, D, x_{C,i} , Q_C$$\n",
    "\n",
    "$$N_C+4$$"
   ]
  },
  {
   "cell_type": "markdown",
   "metadata": {},
   "source": [
    "## For reboiler: \n",
    "\n",
    "$$T_R, G_{N_T+1}, B, x_{R,i} , Q_R$$\n",
    "\n",
    "$$N_C+4$$"
   ]
  },
  {
   "cell_type": "markdown",
   "metadata": {},
   "source": [
    "## Total number of Variables: \n",
    "\n",
    "$$\\boxed{N_T(3+2N_C)+8+2N_C}$$"
   ]
  },
  {
   "cell_type": "markdown",
   "metadata": {},
   "source": [
    "## Equations: "
   ]
  },
  {
   "cell_type": "markdown",
   "metadata": {},
   "source": [
    "## 1) S. S. mass balances for all components in all trays: \n",
    "\n",
    "$$N_C N_T$$"
   ]
  },
  {
   "cell_type": "markdown",
   "metadata": {},
   "source": [
    "## 2) S. S. mass balances for all components in the condenser \n",
    "\n",
    "$$y_{1,i}=x_{C,i} \\ \\ \\ \\ total \\ \\ \\ \\ (partial \\ \\ T-xy)$$\n",
    "\n",
    "$$G_1-(L_0+D)=0$$\n",
    "\n",
    "$$N_C+1$$"
   ]
  },
  {
   "cell_type": "markdown",
   "metadata": {},
   "source": [
    "## 3) S. S. mass balances for all components in the reboiler \n",
    "\n",
    "$$y_{NT+1,i}=x_{B,i} \\ \\ \\ \\ total (partial T-xy) $$ \n",
    "\n",
    "$$L_{NT}-(G_{N_T+1}+B)=0$$\n",
    "\n",
    "$$N_C+1$$"
   ]
  },
  {
   "cell_type": "markdown",
   "metadata": {},
   "source": [
    "## 4) Equilibrium relations \n",
    "\n",
    "$$y_{j,i}=K_{j,i} (x_j, T_j, P_j) x_{j,i} $$\n",
    "\n",
    "$$P_j \\ \\ is \\ \\ knwon$$ \n",
    "\n",
    "$$N_T N_C$$"
   ]
  },
  {
   "cell_type": "markdown",
   "metadata": {},
   "source": [
    "## 5) Summation equation \n",
    "\n",
    "$$\\sum_{i=1}^{N_C} x_{j,i}=1 \\ \\ \\ \\ \\ j=1,...,N_T$$    \n",
    "\n",
    "$$\\sum_{i=1}^{N_C} y_{j,i}=1 \\ \\ \\ \\ \\ condenser$$    \n",
    "\n",
    "$$\\sum_{i=1}^{N_C} x_{C,i}=1 \\ \\ \\ \\ \\ j=1,...,N_T$$   \n",
    "\n",
    "$$\\sum_{i=1}^{N_C} y_{N_T+1,i}=1 \\ \\ \\ \\ \\ reboiler$$    \n",
    "\n",
    "$$2N_T+2$$"
   ]
  },
  {
   "cell_type": "markdown",
   "metadata": {},
   "source": [
    "## 6) Enthalpy balance in each tray \n",
    "\n",
    "$$N_T$$"
   ]
  },
  {
   "cell_type": "markdown",
   "metadata": {},
   "source": [
    "## 7) Enthalpy balance in condenser and reboiler \n",
    "\n",
    "$$2$$"
   ]
  },
  {
   "cell_type": "markdown",
   "metadata": {},
   "source": [
    "## Total number of equations: \n",
    "\n",
    "$$\\boxed{N_T(3+2N_C)+2N_C+6}$$"
   ]
  },
  {
   "cell_type": "markdown",
   "metadata": {},
   "source": [
    "## DOF =  Number of Unknwons -  Number of Equations "
   ]
  },
  {
   "cell_type": "markdown",
   "metadata": {},
   "source": [
    "$$\\bigg(N_T(3+2N_C)+8+2N_C \\bigg)-\\bigg( N_T(3+2N_C)+2N_C+6 \\bigg) = 2 $$"
   ]
  },
  {
   "cell_type": "code",
   "execution_count": null,
   "metadata": {
    "collapsed": true
   },
   "outputs": [],
   "source": []
  },
  {
   "cell_type": "code",
   "execution_count": null,
   "metadata": {
    "collapsed": true
   },
   "outputs": [],
   "source": []
  },
  {
   "cell_type": "code",
   "execution_count": null,
   "metadata": {
    "collapsed": true
   },
   "outputs": [],
   "source": []
  },
  {
   "cell_type": "code",
   "execution_count": null,
   "metadata": {
    "collapsed": true
   },
   "outputs": [],
   "source": []
  },
  {
   "cell_type": "code",
   "execution_count": null,
   "metadata": {
    "collapsed": true
   },
   "outputs": [],
   "source": []
  },
  {
   "cell_type": "code",
   "execution_count": null,
   "metadata": {
    "collapsed": true
   },
   "outputs": [],
   "source": []
  }
 ],
 "metadata": {
  "kernelspec": {
   "display_name": "Python 3",
   "language": "python",
   "name": "python3"
  },
  "language_info": {
   "codemirror_mode": {
    "name": "ipython",
    "version": 3
   },
   "file_extension": ".py",
   "mimetype": "text/x-python",
   "name": "python",
   "nbconvert_exporter": "python",
   "pygments_lexer": "ipython3",
   "version": "3.6.3"
  }
 },
 "nbformat": 4,
 "nbformat_minor": 2
}
